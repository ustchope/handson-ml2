{
 "cells": [
  {
   "cell_type": "code",
   "execution_count": 1,
   "id": "interesting-fiber",
   "metadata": {},
   "outputs": [
    {
     "name": "stdout",
     "output_type": "stream",
     "text": [
      "time: 539 ms (started: 2021-08-18 03:21:02 +08:00)\n"
     ]
    }
   ],
   "source": [
    "# 自动计算cell的计算时间\n",
    "%load_ext autotime\n",
    "\n",
    "%matplotlib inline\n",
    "%config InlineBackend.figure_format='svg' #矢量图设置，让绘图更清晰"
   ]
  },
  {
   "cell_type": "code",
   "execution_count": 3,
   "id": "noticed-ivory",
   "metadata": {},
   "outputs": [
    {
     "name": "stdout",
     "output_type": "stream",
     "text": [
      "origin\tgit@github.com:ustchope/handson-ml2.git (fetch)\n",
      "origin\tgit@github.com:ustchope/handson-ml2.git (push)\n",
      "[master 79e99e9] 更新 ch14 #1  Aug 18, 2021\n",
      " 1 file changed, 6 insertions(+)\n",
      " create mode 100644 ch14.ipynb\n"
     ]
    },
    {
     "name": "stderr",
     "output_type": "stream",
     "text": [
      "To git@github.com:ustchope/handson-ml2.git\n",
      "   5763c46..79e99e9  master -> master\n"
     ]
    },
    {
     "name": "stdout",
     "output_type": "stream",
     "text": [
      "time: 4.2 s (started: 2021-08-18 03:21:23 +08:00)\n"
     ]
    }
   ],
   "source": [
    "%%bash\n",
    "\n",
    "# 增加更新\n",
    "git add *.ipynb *.md\n",
    "\n",
    "git remote -v\n",
    "\n",
    "git commit -m '更新 ch14 #1  Aug 18, 2021'\n",
    "\n",
    "git push origin master"
   ]
  },
  {
   "cell_type": "code",
   "execution_count": 2,
   "id": "waiting-plenty",
   "metadata": {},
   "outputs": [
    {
     "name": "stdout",
     "output_type": "stream",
     "text": [
      "time: 3.89 s (started: 2021-08-18 03:21:15 +08:00)\n"
     ]
    }
   ],
   "source": [
    "#设置使用的gpu\n",
    "import tensorflow as tf\n",
    "\n",
    "gpus = tf.config.list_physical_devices(\"GPU\")\n",
    "\n",
    "if gpus:\n",
    "   \n",
    "    gpu0 = gpus[0] #如果有多个GPU，仅使用第0个GPU\n",
    "    tf.config.experimental.set_memory_growth(gpu0, True) #设置GPU显存用量按需使用\n",
    "    # 或者也可以设置GPU显存为固定使用量(例如：4G)\n",
    "    #tf.config.experimental.set_virtual_device_configuration(gpu0,\n",
    "    #    [tf.config.experimental.VirtualDeviceConfiguration(memory_limit=4096)]) \n",
    "    tf.config.set_visible_devices([gpu0],\"GPU\")"
   ]
  },
  {
   "cell_type": "markdown",
   "id": "spanish-yorkshire",
   "metadata": {},
   "source": [
    "# 使用卷积神经网络的深度计算机视觉"
   ]
  },
  {
   "cell_type": "markdown",
   "id": "rotary-spectacular",
   "metadata": {},
   "source": [
    "尽管 IBM 的深蓝超级计算机早在 1996 年就击败了国际象棋世界冠军加里·卡斯帕罗夫，但直到最近，计算机才能够可靠地执行看似微不足道的任务，例如检测图片中的小狗或识别口语。 为什么这些任务对我们人类来说如此轻松？ 答案在于，感知主要发生在我们的意识领域之外，在我们大脑中专门的视觉、听觉和其他感官模块内。 当感官信息到达我们的意识时，它已经被高级特征所装饰； 例如，当你看一张可爱的小狗的照片时，你不能选择不看小狗，不注意它的可爱。 你也无法解释你是如何认出一只可爱的小狗的； 这对你来说很明显。 因此，我们不能相信我们的主观经验：感知根本不是微不足道的，要理解它，我们必须看看感官模块是如何工作的。"
   ]
  },
  {
   "cell_type": "markdown",
   "id": "independent-responsibility",
   "metadata": {},
   "source": [
    "卷积神经网络 (CNN) 起源于对大脑视觉皮层的研究，自 1980 年代以来一直用于图像识别。 在过去的几年里，由于计算能力的增加、可用训练数据的数量以及第 11 章中介绍的训练深度网络的技巧，CNN 已经在一些复杂的视觉任务上取得了超人的表现。 它们为图像搜索服务、自动驾驶汽车、自动视频分类系统等提供支持。 此外，CNN 不仅限于视觉感知：它们在许多其他任务上也很成功，例如语音识别和自然语言处理。 但是，我们现在将专注于可视化应用程序。"
   ]
  },
  {
   "cell_type": "markdown",
   "id": "foster-burlington",
   "metadata": {},
   "source": [
    "在本章中，我们将探讨 CNN 的来源、它们的构建块是什么样的，以及如何使用 TensorFlow 和 Keras 实现它们。 然后我们将讨论一些最好的 CNN 架构，以及其他视觉任务，包括对象检测（对图像中的多个对象进行分类并在它们周围放置边界框）和语义分割（根据对象的类别对每个像素进行分类） 属于）。"
   ]
  },
  {
   "cell_type": "markdown",
   "id": "frozen-activity",
   "metadata": {},
   "source": [
    "## 视觉皮层的架构"
   ]
  },
  {
   "cell_type": "code",
   "execution_count": null,
   "id": "hourly-rebel",
   "metadata": {},
   "outputs": [],
   "source": []
  }
 ],
 "metadata": {
  "kernelspec": {
   "display_name": "Python [conda env:tensorflow]",
   "language": "python",
   "name": "conda-env-tensorflow-py"
  },
  "language_info": {
   "codemirror_mode": {
    "name": "ipython",
    "version": 3
   },
   "file_extension": ".py",
   "mimetype": "text/x-python",
   "name": "python",
   "nbconvert_exporter": "python",
   "pygments_lexer": "ipython3",
   "version": "3.8.10"
  }
 },
 "nbformat": 4,
 "nbformat_minor": 5
}
